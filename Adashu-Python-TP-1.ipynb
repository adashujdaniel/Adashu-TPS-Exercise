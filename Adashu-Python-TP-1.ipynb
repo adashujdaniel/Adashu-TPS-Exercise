{
 "cells": [
  {
   "cell_type": "markdown",
   "id": "426486dd",
   "metadata": {
    "id": "426486dd"
   },
   "source": [
    "\n",
    "\n",
    "# Practical_1: Variables and Assignments"
   ]
  },
  {
   "cell_type": "markdown",
   "id": "9fb19f0d",
   "metadata": {
    "id": "9fb19f0d"
   },
   "source": [
    "----\n",
    "\n",
    "### Exercise 1:\n",
    "Declare a variable `x` and assign it the value `10`.\n",
    "\n",
    "```python\n",
    "# Exercise 1\n",
    "```\n",
    "\n",
    "---\n",
    "\n",
    "### Exercise 2:\n",
    "Assign the value `True` to a variable called `is_valid`.\n",
    "\n",
    "```python\n",
    "# Exercise 2\n",
    "```\n",
    "\n",
    "---\n",
    "\n",
    "### Exercise 3:\n",
    "Create a string variable `name` with the value \"Python Programming\".\n",
    "\n",
    "```python\n",
    "# Exercise 3\n",
    "```\n",
    "\n",
    "---\n",
    "\n",
    "### Exercise 4:\n",
    "Assign the result of `5 + 3` to a variable `sum_result`.\n",
    "\n",
    "```python\n",
    "# Exercise 4\n",
    "```\n",
    "\n",
    "---\n",
    "\n",
    "### Exercise 5:\n",
    "Assign multiple variables in one line: `a = 5`, `b = 10`, `c = 15`.\n",
    "\n",
    "```python\n",
    "# Exercise 5\n",
    "```\n",
    "\n",
    "---\n",
    "\n",
    "### Exercise 6:\n",
    "Assign the value of one variable `x` to another variable `y`.\n",
    "\n",
    "```python\n",
    "# Exercise 6\n",
    "```\n",
    "\n",
    "---\n",
    "\n",
    "### Exercise 7:\n",
    "Assign a floating-point number `9.8` to a variable `gravity`.\n",
    "\n",
    "```python\n",
    "# Exercise 7\n",
    "```\n",
    "\n",
    "---\n",
    "\n",
    "### Exercise 8:\n",
    "Create a variable `country` and assign it the string value of your favorite country.\n",
    "\n",
    "```python\n",
    "# Exercise 8\n",
    "```\n",
    "\n",
    "---\n",
    "\n",
    "### Exercise 9:\n",
    "Change the value of variable `age` from `25` to `26` in two separate steps.\n",
    "\n",
    "```python\n",
    "# Exercise 9\n",
    "```\n",
    "\n",
    "---\n",
    "\n",
    "### Exercise 10:\n",
    "Use one variable to store the result of subtracting two numbers `20 - 7`.\n",
    "\n",
    "```python\n",
    "# Exercise 10\n",
    "```\n",
    "\n",
    "---\n",
    "\n",
    "### Exercise 11:\n",
    "Assign an integer value and a floating-point value to two different variables.\n",
    "\n",
    "```python\n",
    "# Exercise 11\n",
    "```\n",
    "\n",
    "---\n",
    "\n",
    "### Exercise 12:\n",
    "Assign a boolean value `False` to a variable `is_completed`.\n",
    "\n",
    "```python\n",
    "# Exercise 12\n",
    "```\n",
    "\n",
    "---\n",
    "\n",
    "### Exercise 13:\n",
    "Swap the values of two variables `x` and `y`.\n",
    "\n",
    "```python\n",
    "# Exercise 13\n",
    "```\n",
    "\n",
    "---\n",
    "\n",
    "### Exercise 14:\n",
    "Assign a complex number `3 + 4j` to a variable `complex_num`.\n",
    "\n",
    "```python\n",
    "# Exercise 14\n",
    "```\n",
    "\n",
    "---\n",
    "\n",
    "### Exercise 15:\n",
    "Reassign a variable from an integer to a string.\n",
    "\n",
    "```python\n",
    "# Exercise 15\n",
    "```\n",
    "\n",
    "---\n",
    "\n",
    "### Exercise 16:\n",
    "Create two variables `first_name` and `last_name`, and assign them your first and last names.\n",
    "\n",
    "```python\n",
    "# Exercise 16\n",
    "```\n",
    "\n",
    "---\n",
    "\n",
    "### Exercise 17:\n",
    "Create a variable `temperature` and assign it the value of `35.5`.\n",
    "\n",
    "```python\n",
    "# Exercise 17\n",
    "```\n",
    "\n",
    "---\n",
    "\n",
    "### Exercise 18:\n",
    "Assign the result of the multiplication of two numbers `8 * 6` to a variable `product`.\n",
    "\n",
    "```python\n",
    "# Exercise 18\n",
    "```\n",
    "\n",
    "---\n",
    "\n",
    "### Exercise 19:\n",
    "Assign a sentence of your choice to a variable `sentence`.\n",
    "\n",
    "```python\n",
    "# Exercise 19\n",
    "```\n",
    "\n",
    "---\n",
    "\n",
    "### Exercise 20:\n",
    "Use an assignment to convert a string `'50'` into an integer variable `int_value`.\n",
    "\n",
    "```python\n",
    "# Exercise 20\n",
    "```\n",
    "\n",
    "---\n",
    "\n",
    "### Exercise 21:\n",
    "Assign the result of dividing `144` by `12` to a variable `quotient`.\n",
    "\n",
    "```python\n",
    "# Exercise 21\n",
    "```\n",
    "\n",
    "---\n",
    "\n",
    "### Exercise 22:\n",
    "Assign the remainder of `47 divided by 5` to a variable `remainder`.\n",
    "\n",
    "```python\n",
    "# Exercise 22\n",
    "```\n",
    "\n",
    "---\n",
    "\n",
    "### Exercise 23:\n",
    "Create a variable `is_student` and assign it the value `True`.\n",
    "\n",
    "```python\n",
    "# Exercise 23\n",
    "```\n",
    "\n",
    "---\n",
    "\n",
    "### Exercise 24:\n",
    "Use a variable to store the result of a modulo operation: `45 % 4`.\n",
    "\n",
    "```python\n",
    "# Exercise 24\n",
    "```\n",
    "\n",
    "---\n",
    "\n",
    "### Exercise 25:\n",
    "Create a variable `pi` and assign it the value `3.14159`.\n",
    "\n",
    "```python\n",
    "# Exercise 25\n",
    "```\n",
    "\n",
    "---\n",
    "\n",
    "### Exercise 26:\n",
    "Create two variables `length` and `width`, assign them values, and calculate the area of a rectangle.\n",
    "\n",
    "```python\n",
    "# Exercise 26\n",
    "```\n",
    "\n",
    "---\n",
    "\n",
    "### Exercise 27:\n",
    "Assign a negative number to a variable `negative_value`.\n",
    "\n",
    "```python\n",
    "# Exercise 27\n",
    "```\n",
    "\n",
    "---\n",
    "\n",
    "### Exercise 28:\n",
    "Assign a string containing a special character (e.g., \"Hello, World!\") to a variable `greeting`.\n",
    "\n",
    "```python\n",
    "# Exercise 28\n",
    "```\n",
    "\n",
    "---\n",
    "\n",
    "### Exercise 29:\n",
    "Create a variable `population` and assign it a large integer value (in billions).\n",
    "\n",
    "```python\n",
    "# Exercise 29\n",
    "```\n",
    "\n",
    "---\n",
    "\n",
    "### Exercise 30:\n",
    "Use a variable to store the result of raising `2` to the power of `8`.\n",
    "\n",
    "```python\n",
    "# Exercise 30\n",
    "```\n",
    "\n",
    "---\n",
    "\n",
    "### Exercise 31:\n",
    "Assign a list of your favorite fruits to a variable `fruits`.\n",
    "\n",
    "```python\n",
    "# Exercise 31\n",
    "```\n",
    "\n",
    "---\n",
    "\n",
    "### Exercise 32:\n",
    "Assign a tuple of three numbers to a variable `coordinates`.\n",
    "\n",
    "```python\n",
    "# Exercise 32\n",
    "```\n",
    "\n",
    "---\n",
    "\n",
    "### Exercise 33:\n",
    "Assign a dictionary with keys `name` and `age` to a variable `person`.\n",
    "\n",
    "```python\n",
    "# Exercise 33\n",
    "```\n",
    "\n",
    "---\n",
    "\n",
    "### Exercise 34:\n",
    "Use variables to store the sum of two floating-point numbers.\n",
    "\n",
    "```python\n",
    "# Exercise 34\n",
    "```\n",
    "\n",
    "---\n",
    "\n",
    "### Exercise 35:\n",
    "Create a variable `is_sunny` and assign it the result of a comparison `10 > 5`.\n",
    "\n",
    "```python\n",
    "# Exercise 35\n",
    "```\n",
    "\n",
    "---\n",
    "\n",
    "### Exercise 36:\n",
    "Assign a string and an integer to two different variables, then print both on one line.\n",
    "\n",
    "```python\n",
    "# Exercise 36\n",
    "```\n",
    "\n",
    "---\n",
    "\n",
    "### Exercise 37:\n",
    "Reassign a variable that originally held a number to a boolean value.\n",
    "\n",
    "```python\n",
    "# Exercise 37\n",
    "```\n",
    "\n",
    "---\n",
    "\n",
    "### Exercise 38:\n",
    "Create a variable `is_weekend` and assign it the result of `False`.\n",
    "\n",
    "```python\n",
    "# Exercise 38\n",
    "```\n",
    "\n",
    "---\n",
    "\n",
    "### Exercise 39:\n",
    "Assign a multi-line string to a variable `description`.\n",
    "\n",
    "```python\n",
    "# Exercise 39\n",
    "```\n",
    "\n",
    "---\n",
    "\n",
    "### Exercise 40:\n",
    "Use variables to store the result of the absolute value of `-25`.\n",
    "\n",
    "```python\n",
    "# Exercise 40\n",
    "```\n",
    "\n",
    "---\n",
    "\n",
    "### Exercise 41:\n",
    "Assign the result of a floor division `100 // 6` to a variable `floor_div_result`.\n",
    "\n",
    "```python\n",
    "# Exercise 41\n",
    "```\n",
    "\n",
    "---\n",
    "\n",
    "### Exercise 42:\n",
    "Assign the result of adding a floating-point number to an integer to a variable `mixed_sum`.\n",
    "\n",
    "```python\n",
    "# Exercise 42\n",
    "```\n",
    "\n",
    "---\n",
    "\n",
    "\n",
    "### Exercise 43:\n",
    "Assign a boolean value based on the comparison of two variables `a = 10` and `b = 15`.\n",
    "\n",
    "```python\n",
    "# Exercise 43\n",
    "```\n",
    "\n",
    "---\n",
    "\n",
    "### Exercise 44:\n",
    "Assign a long sentence to a variable and count its characters using `len()`.\n",
    "\n",
    "```python\n",
    "# Exercise 44\n",
    "```\n",
    "\n",
    "---\n",
    "\n",
    "### Exercise 45:\n",
    "Assign a fractional result `7 / 3` to a variable `division_result`.\n",
    "\n",
    "```python\n",
    "# Exercise 45\n",
    "```\n",
    "\n",
    "---\n",
    "\n",
    "### Exercise 46:\n",
    "Create a variable `speed` and assign it the value of 100 kilometers per hour.\n",
    "\n",
    "```python\n",
    "# Exercise 46\n",
    "```\n",
    "\n",
    "---\n",
    "\n",
    "### Exercise 47:\n",
    "Assign a multi-variable equation like `y = 3x + 5` where `x = 4` to a variable `y`.\n",
    "\n",
    "```python\n",
    "# Exercise 47\n",
    "```\n",
    "\n",
    "---\n",
    "\n",
    "### Exercise 48:\n",
    "Use variables to calculate and store the average of three numbers.\n",
    "\n",
    "```python\n",
    "# Exercise 48\n",
    "```\n",
    "\n",
    "****"
   ]
  },
  {
   "cell_type": "code",
   "execution_count": 55,
   "id": "88a9db6a",
   "metadata": {},
   "outputs": [
    {
     "name": "stdout",
     "output_type": "stream",
     "text": [
      "The value of x is 10\n"
     ]
    }
   ],
   "source": [
    "#Exercise 1\n",
    "x = 10\n",
    "print(\"The value of x is\",x)"
   ]
  },
  {
   "cell_type": "code",
   "execution_count": null,
   "id": "bd8fcf43",
   "metadata": {},
   "outputs": [],
   "source": [
    "#Exercise 2:\n",
    "is_valid = True"
   ]
  },
  {
   "cell_type": "code",
   "execution_count": 53,
   "id": "bf4307b8",
   "metadata": {},
   "outputs": [
    {
     "name": "stdout",
     "output_type": "stream",
     "text": [
      "Prof Gaba Yae is skilled in Python programming\n"
     ]
    }
   ],
   "source": [
    "#Exercise 3:\n",
    "Name = \"Python programming\"\n",
    "print(\"Prof Gaba Yae is skilled in\",Name)"
   ]
  },
  {
   "cell_type": "code",
   "execution_count": 52,
   "id": "3a0be4fc",
   "metadata": {},
   "outputs": [
    {
     "name": "stdout",
     "output_type": "stream",
     "text": [
      "The sum of a and b is 8\n"
     ]
    }
   ],
   "source": [
    "#Exercise 4:\n",
    "a = 5\n",
    "b = 3\n",
    "sum_result = a + b \n",
    "print(\"The sum of a and b is\", sum_result)"
   ]
  },
  {
   "cell_type": "code",
   "execution_count": 51,
   "id": "e729756f",
   "metadata": {},
   "outputs": [
    {
     "name": "stdout",
     "output_type": "stream",
     "text": [
      "5\n",
      "10\n",
      "15\n"
     ]
    }
   ],
   "source": [
    "#Exercise 5:\n",
    "a,b,c = 5,10,15\n",
    "print(a)\n",
    "print(b)\n",
    "print(c)"
   ]
  },
  {
   "cell_type": "code",
   "execution_count": null,
   "id": "852bf04d",
   "metadata": {},
   "outputs": [],
   "source": [
    "#Exercise 6:\n",
    "x = y"
   ]
  },
  {
   "cell_type": "code",
   "execution_count": 50,
   "id": "dec73e66",
   "metadata": {},
   "outputs": [
    {
     "name": "stdout",
     "output_type": "stream",
     "text": [
      "The standard value of gravity is 9.8\n"
     ]
    }
   ],
   "source": [
    "#Exercise 7:\n",
    "gravity = 9.8\n",
    "print(\"The standard value of gravity is\", gravity)"
   ]
  },
  {
   "cell_type": "code",
   "execution_count": 49,
   "id": "bccc4f8f",
   "metadata": {},
   "outputs": [
    {
     "name": "stdout",
     "output_type": "stream",
     "text": [
      "The next country I want to visit is Australia\n"
     ]
    }
   ],
   "source": [
    "#Exercise 8:\n",
    "country = \"Australia\"\n",
    "print(\"The next country I want to visit is\", country)"
   ]
  },
  {
   "cell_type": "code",
   "execution_count": 46,
   "id": "08ac3330",
   "metadata": {},
   "outputs": [
    {
     "data": {
      "text/plain": [
       "26"
      ]
     },
     "execution_count": 46,
     "metadata": {},
     "output_type": "execute_result"
    }
   ],
   "source": [
    "#Exercise 9:\n",
    "age = 25\n",
    "age = 26\n",
    "age"
   ]
  },
  {
   "cell_type": "code",
   "execution_count": 43,
   "id": "a4bff487",
   "metadata": {},
   "outputs": [
    {
     "data": {
      "text/plain": [
       "13"
      ]
     },
     "execution_count": 43,
     "metadata": {},
     "output_type": "execute_result"
    }
   ],
   "source": [
    "#Exercise 10:\n",
    "subtraction = 20 -7\n",
    "subtraction"
   ]
  },
  {
   "cell_type": "code",
   "execution_count": null,
   "id": "6899628f",
   "metadata": {},
   "outputs": [],
   "source": [
    "#Exercise 11\n",
    "x = int(a)\n",
    "y = float(b)"
   ]
  },
  {
   "cell_type": "code",
   "execution_count": 42,
   "id": "ea1ce394",
   "metadata": {},
   "outputs": [],
   "source": [
    "#Exercise 12:\n",
    "#Assign a boolean value False to a variable is_completed.\n",
    "is_completed = False "
   ]
  },
  {
   "cell_type": "code",
   "execution_count": null,
   "id": "94e0b086",
   "metadata": {},
   "outputs": [],
   "source": [
    "#Exercise 13:\n",
    "x = 10\n",
    "y = 11\n",
    "x = 11\n",
    "y = 10"
   ]
  },
  {
   "cell_type": "code",
   "execution_count": 12,
   "id": "c97395ec",
   "metadata": {},
   "outputs": [],
   "source": [
    "#Exercise 14:\n",
    "complex_num = 3 + 4j"
   ]
  },
  {
   "cell_type": "code",
   "execution_count": 41,
   "id": "ac19f42d",
   "metadata": {},
   "outputs": [
    {
     "data": {
      "text/plain": [
       "13"
      ]
     },
     "execution_count": 41,
     "metadata": {},
     "output_type": "execute_result"
    }
   ],
   "source": [
    "#Exercise 15:\n",
    "x = 13\n",
    "y = str(x)"
   ]
  },
  {
   "cell_type": "code",
   "execution_count": null,
   "id": "fa1c6fb5",
   "metadata": {},
   "outputs": [],
   "source": [
    "Exercise 16:\n",
    "first_name = \"Daniel\"\n",
    "Last_name = \"Adashu\""
   ]
  },
  {
   "cell_type": "code",
   "execution_count": null,
   "id": "6f8cd998",
   "metadata": {},
   "outputs": [],
   "source": [
    "#Exercise 17:\n",
    "temperature = 35.5"
   ]
  },
  {
   "cell_type": "code",
   "execution_count": 18,
   "id": "a530c4e9",
   "metadata": {},
   "outputs": [
    {
     "data": {
      "text/plain": [
       "48"
      ]
     },
     "execution_count": 18,
     "metadata": {},
     "output_type": "execute_result"
    }
   ],
   "source": [
    "#Exercise 18:\n",
    "a = 8\n",
    "b = 6\n",
    "product = a * b\n",
    "product"
   ]
  },
  {
   "cell_type": "code",
   "execution_count": null,
   "id": "4f8c1051",
   "metadata": {},
   "outputs": [],
   "source": [
    "#Exercise 19:\n",
    "Sentence = \"Tomorrow is public holiday\""
   ]
  },
  {
   "cell_type": "code",
   "execution_count": null,
   "id": "8ce197b1",
   "metadata": {},
   "outputs": [],
   "source": [
    "#Exercise 20:\n",
    "a = str(50)\n",
    "int_value = int(a)"
   ]
  },
  {
   "cell_type": "code",
   "execution_count": 23,
   "id": "66c08ddb",
   "metadata": {},
   "outputs": [],
   "source": [
    "#Exercise 21:\n",
    "a = 144\n",
    "b = 12\n",
    "qoutient = a / b"
   ]
  },
  {
   "cell_type": "code",
   "execution_count": 25,
   "id": "a76685f2",
   "metadata": {},
   "outputs": [
    {
     "data": {
      "text/plain": [
       "9.4"
      ]
     },
     "execution_count": 25,
     "metadata": {},
     "output_type": "execute_result"
    }
   ],
   "source": [
    "#Exercise 22:\n",
    "a = 47\n",
    "b = 5\n",
    "qiotient = a / b\n",
    "remainder = float(qiotient)\n",
    "remainder"
   ]
  },
  {
   "cell_type": "code",
   "execution_count": null,
   "id": "2233953e",
   "metadata": {},
   "outputs": [],
   "source": [
    "#Exercise 23:\n",
    "is_student = True"
   ]
  },
  {
   "cell_type": "code",
   "execution_count": null,
   "id": "f425b811",
   "metadata": {},
   "outputs": [],
   "source": [
    "#Exercise 24:\n",
    "a = 45\n",
    "b = 4\n",
    "Modulo = 45 % 4 "
   ]
  },
  {
   "cell_type": "code",
   "execution_count": null,
   "id": "41eee1ab",
   "metadata": {},
   "outputs": [],
   "source": [
    "#Exercise 25:\n",
    "pi = 3.14159"
   ]
  },
  {
   "cell_type": "code",
   "execution_count": 5,
   "id": "e5416f1d-0988-42a7-af55-b093aa18bd69",
   "metadata": {},
   "outputs": [
    {
     "name": "stdin",
     "output_type": "stream",
     "text": [
      "Enter value:  56\n",
      "Enter value:  34\n"
     ]
    },
    {
     "data": {
      "text/plain": [
       "1904"
      ]
     },
     "execution_count": 5,
     "metadata": {},
     "output_type": "execute_result"
    }
   ],
   "source": [
    "#Exercise 26:\n",
    "length = int(input(\"Enter value: \"))\n",
    "width = int(input(\"Enter value: \"))\n",
    "area_of_rectangle = length * width\n",
    "area_of_rectangle"
   ]
  },
  {
   "cell_type": "code",
   "execution_count": 6,
   "id": "f5b15335-d998-45b2-a924-3ee839113444",
   "metadata": {},
   "outputs": [],
   "source": [
    "#Exercise 27:\n",
    "#Assign a negative number to a variable negative_value.\n",
    "negative_value = -23"
   ]
  },
  {
   "cell_type": "code",
   "execution_count": 7,
   "id": "a3bfd784-67a2-4780-9bf6-86b252f31855",
   "metadata": {},
   "outputs": [
    {
     "data": {
      "text/plain": [
       "8000000000"
      ]
     },
     "execution_count": 7,
     "metadata": {},
     "output_type": "execute_result"
    }
   ],
   "source": [
    "#Exercise 29:\n",
    "#Create a variable population and assign it a large integer value (in billions).\n",
    "population = 8 * 10**9\n",
    "population"
   ]
  },
  {
   "cell_type": "code",
   "execution_count": 8,
   "id": "3c188e98-496b-4202-bbf5-269353b701a8",
   "metadata": {},
   "outputs": [
    {
     "data": {
      "text/plain": [
       "256"
      ]
     },
     "execution_count": 8,
     "metadata": {},
     "output_type": "execute_result"
    }
   ],
   "source": [
    "#Exercise 30:\n",
    "#Use a variable to store the result of raising 2 to the power of 8.\n",
    "power = 2**8\n",
    "power"
   ]
  },
  {
   "cell_type": "code",
   "execution_count": 10,
   "id": "e7c8eeb9-3fa6-440f-82ce-5da677a587af",
   "metadata": {},
   "outputs": [
    {
     "data": {
      "text/plain": [
       "['Apple', 'Mangoe', 'Pawpaw', 'Orange']"
      ]
     },
     "execution_count": 10,
     "metadata": {},
     "output_type": "execute_result"
    }
   ],
   "source": [
    "#Exercise 31:\n",
    "#Assign a list of your favorite fruits to a variable fruits.\n",
    "fruits = [\"Apple\", \"Mangoe\", \"Pawpaw\", \"Orange\"]\n",
    "fruits"
   ]
  },
  {
   "cell_type": "code",
   "execution_count": 11,
   "id": "87fdc9ae-a5d6-4924-903c-375a58df45b7",
   "metadata": {},
   "outputs": [
    {
     "data": {
      "text/plain": [
       "(3, 4, 5)"
      ]
     },
     "execution_count": 11,
     "metadata": {},
     "output_type": "execute_result"
    }
   ],
   "source": [
    "#Exercise 32:\n",
    "#Assign a tuple of three numbers to a variable coordinates.\n",
    "coordinates = (3,4,5)\n",
    "coordinates"
   ]
  },
  {
   "cell_type": "code",
   "execution_count": 37,
   "id": "f928d39d-ccc3-48ee-b1ac-44999cc72d26",
   "metadata": {},
   "outputs": [
    {
     "name": "stdin",
     "output_type": "stream",
     "text": [
      "Enter name Daniel\n",
      "Enter age 31\n"
     ]
    },
    {
     "data": {
      "text/plain": [
       "{'Name': 'Daniel', 'Age': '31'}"
      ]
     },
     "execution_count": 37,
     "metadata": {},
     "output_type": "execute_result"
    }
   ],
   "source": [
    "#Exercise 33:\n",
    "#Assign a dictionary with keys name and age to a variable person.\n",
    "person = {\"Name\":input(\"Enter name\"),\"Age\":input(\"Enter age\")}\n",
    "person"
   ]
  },
  {
   "cell_type": "code",
   "execution_count": 35,
   "id": "265c7774-249a-4579-999a-bd3a9ca1e4c4",
   "metadata": {},
   "outputs": [
    {
     "name": "stdin",
     "output_type": "stream",
     "text": [
      "Enter a 3.5\n",
      "Enter b 34.6\n"
     ]
    },
    {
     "name": "stdout",
     "output_type": "stream",
     "text": [
      "The result 0.10115606936416184\n"
     ]
    }
   ],
   "source": [
    "#Exercise 34:\n",
    "#Use variables to store the sum of two floating-point numbers.\n",
    "a = float(input(\"Enter a\"))\n",
    "b = float(input(\"Enter b\"))\n",
    "division_result = a / b\n",
    "print(\"The result\", division_result)"
   ]
  },
  {
   "cell_type": "code",
   "execution_count": 34,
   "id": "d91e9421-71bc-4b81-86d7-d2a23d36ef38",
   "metadata": {},
   "outputs": [
    {
     "name": "stdout",
     "output_type": "stream",
     "text": [
      "True\n"
     ]
    }
   ],
   "source": [
    "#Exercise 35:\n",
    "#Create a variable is_sunny and assign it the result of a comparison 10 > 5.\n",
    "is_sunny = 10 > 5\n",
    "print(is_sunny)"
   ]
  },
  {
   "cell_type": "code",
   "execution_count": 33,
   "id": "56304c40-c4ba-4a76-8936-2973d25ef26f",
   "metadata": {},
   "outputs": [
    {
     "name": "stdout",
     "output_type": "stream",
     "text": [
      "Hello 42\n"
     ]
    }
   ],
   "source": [
    "#Exercise 36:\n",
    "#Assign a string and an integer to two different variables, then print both on one line.\n",
    "string = \"Hello\"\n",
    "integer = 42\n",
    "\n",
    "print(string, integer)"
   ]
  },
  {
   "cell_type": "code",
   "execution_count": 31,
   "id": "7fc80d72-b293-41ce-8fed-825c74335942",
   "metadata": {},
   "outputs": [
    {
     "name": "stdout",
     "output_type": "stream",
     "text": [
      "The variable now holds a boolean value: True\n"
     ]
    }
   ],
   "source": [
    "#Exercise 37:\n",
    "#Reassign a variable that originally held a number to a boolean value.\n",
    "number = 25\n",
    "number = True\n",
    "print(\"The variable now holds a boolean value:\", number)"
   ]
  },
  {
   "cell_type": "code",
   "execution_count": 30,
   "id": "e43934e9-fde0-411d-8c92-530f56695c0e",
   "metadata": {},
   "outputs": [],
   "source": [
    "#Exercise 38:\n",
    "#Create a variable is_weekend and assign it the result of False.\n",
    "is_weekend = False"
   ]
  },
  {
   "cell_type": "code",
   "execution_count": 29,
   "id": "f9a533a6-36c9-47e9-9858-2341ee5aeb95",
   "metadata": {},
   "outputs": [
    {
     "data": {
      "text/plain": [
       "'Life in AIMS Senegal can be fun but challenging\\n                The progamme is coordinated and yet tasking.'"
      ]
     },
     "execution_count": 29,
     "metadata": {},
     "output_type": "execute_result"
    }
   ],
   "source": [
    "#Exercise 39:\n",
    "#Assign a multi-line string to a variable description.\n",
    "description = \"\"\"Life in AIMS Senegal can be fun but challenging\n",
    "                The progamme is coordinated and yet tasking.\"\"\""
   ]
  },
  {
   "cell_type": "code",
   "execution_count": 27,
   "id": "41ebf913-91d2-4fb8-b305-e308bc693386",
   "metadata": {},
   "outputs": [
    {
     "data": {
      "text/plain": [
       "25"
      ]
     },
     "execution_count": 27,
     "metadata": {},
     "output_type": "execute_result"
    }
   ],
   "source": [
    "#Exercise 40:\n",
    "#Use variables to store the result of the absolute value of -25.\n",
    "a = -25\n",
    "absolute_value = abs(-25)\n",
    "absolute_value"
   ]
  },
  {
   "cell_type": "code",
   "execution_count": 25,
   "id": "7ed9b3a6-b219-443e-8c33-d4cb91d877b3",
   "metadata": {},
   "outputs": [
    {
     "name": "stdout",
     "output_type": "stream",
     "text": [
      "The result of floor division is: 16\n"
     ]
    }
   ],
   "source": [
    "#Exercise 41:\n",
    "#Assign the result of a floor division 100 // 6 to a variable floor_div_result.\n",
    "a = 100\n",
    "b = 6\n",
    "floor_div_result = a // b\n",
    "\n",
    "print(\"The result of floor division is:\", floor_div_result)"
   ]
  },
  {
   "cell_type": "code",
   "execution_count": 24,
   "id": "054e82dd-9d30-438e-9449-547b175495ab",
   "metadata": {},
   "outputs": [
    {
     "name": "stdout",
     "output_type": "stream",
     "text": [
      "The result of adding an integer and a float is: 7.5\n"
     ]
    }
   ],
   "source": [
    "#Exercise 42:\n",
    "#Assign the result of adding a floating-point number to an integer to a variable mixed_sum.\n",
    "integer_value = 5\n",
    "float_value = 2.5\n",
    "\n",
    "mixed_sum = integer_value + float_value\n",
    "print(\"The result of adding an integer and a float is:\", mixed_sum)"
   ]
  },
  {
   "cell_type": "code",
   "execution_count": 23,
   "id": "5fb58022-3eae-4296-9878-f849161fcba4",
   "metadata": {},
   "outputs": [
    {
     "name": "stdout",
     "output_type": "stream",
     "text": [
      "True\n"
     ]
    }
   ],
   "source": [
    "#Exercise 43:\n",
    "#Assign a boolean value based on the comparison of two variables a = 10 and b = 15.\n",
    "a = 10\n",
    "b = 15\n",
    "comparison_result = a < b\n",
    "print(comparison_result)"
   ]
  },
  {
   "cell_type": "code",
   "execution_count": 21,
   "id": "ef6f49ba-21da-49ed-82eb-619d9d567a71",
   "metadata": {},
   "outputs": [
    {
     "name": "stdout",
     "output_type": "stream",
     "text": [
      "The number of characters in the sentence is: 70\n"
     ]
    }
   ],
   "source": [
    "#Exercise 44:\n",
    "#Assign a long sentence to a variable and count its characters using len().\n",
    "sentence = \"Learning Python is fun, it reduces the complexity of solving problems.\"\n",
    "count = len(sentence)\n",
    "\n",
    "print(\"The number of characters in the sentence is:\", count)"
   ]
  },
  {
   "cell_type": "code",
   "execution_count": 20,
   "id": "38975c06-43ab-4473-9d2a-f928994f37ed",
   "metadata": {},
   "outputs": [
    {
     "name": "stdout",
     "output_type": "stream",
     "text": [
      "The result is 7\n"
     ]
    }
   ],
   "source": [
    "#Exercise 45:\n",
    "#Assign a fractional result 7 / 3 to a variable division_result.\n",
    "a = 3\n",
    "b = 21\n",
    "division_result = int(b / a)\n",
    "\n",
    "print(\"The result is\", division_result)"
   ]
  },
  {
   "cell_type": "code",
   "execution_count": 15,
   "id": "caae4d0d-6069-4d7b-a9d8-31ae3baa0604",
   "metadata": {},
   "outputs": [
    {
     "name": "stdout",
     "output_type": "stream",
     "text": [
      "Speed: 100 km/h\n"
     ]
    }
   ],
   "source": [
    "#Exercise 46:\n",
    "#Create a variable speed and assign it the value of 100 kilometers per hour.\n",
    "speed = 100 \n",
    "print(\"Speed:\", speed,\"km/h\")"
   ]
  },
  {
   "cell_type": "code",
   "execution_count": 13,
   "id": "bb4cc249-b67c-4690-9b76-89c868d48e35",
   "metadata": {},
   "outputs": [
    {
     "name": "stdout",
     "output_type": "stream",
     "text": [
      "The value of y is 17\n"
     ]
    }
   ],
   "source": [
    "#Exercise 47:\n",
    "#Assign a multi-variable equation like y = 3x + 5 where x = 4 to a variable y.\n",
    "x = 4\n",
    "y = 3 * x + 5\n",
    "print(\"The value of y is\", y)"
   ]
  },
  {
   "cell_type": "code",
   "execution_count": 12,
   "id": "d7f2720e-42df-43b4-8567-5cc0163cddc1",
   "metadata": {},
   "outputs": [
    {
     "name": "stdin",
     "output_type": "stream",
     "text": [
      "Enter a number a: 23\n",
      "Enter a number b: 4\n",
      "Enter a number c: 56\n"
     ]
    },
    {
     "data": {
      "text/plain": [
       "27.666666666666668"
      ]
     },
     "execution_count": 12,
     "metadata": {},
     "output_type": "execute_result"
    }
   ],
   "source": [
    "#Exercise 48:\n",
    "#Use variables to calculate and store the average of three numbers.\n",
    "a = float(input(\"Enter a number a:\"))\n",
    "b = float(input(\"Enter a number b:\"))\n",
    "c = float(input(\"Enter a number c:\"))\n",
    "average = (a+b+c)/3\n",
    "average"
   ]
  }
 ],
 "metadata": {
  "colab": {
   "provenance": []
  },
  "kernelspec": {
   "display_name": "Python 3 (ipykernel)",
   "language": "python",
   "name": "python3"
  },
  "language_info": {
   "codemirror_mode": {
    "name": "ipython",
    "version": 3
   },
   "file_extension": ".py",
   "mimetype": "text/x-python",
   "name": "python",
   "nbconvert_exporter": "python",
   "pygments_lexer": "ipython3",
   "version": "3.13.5"
  }
 },
 "nbformat": 4,
 "nbformat_minor": 5
}
