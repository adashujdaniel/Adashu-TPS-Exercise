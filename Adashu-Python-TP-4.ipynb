{
 "cells": [
  {
   "cell_type": "markdown",
   "id": "d68c1dee",
   "metadata": {
    "id": "d68c1dee"
   },
   "source": [
    "# Practical_4: Flow control"
   ]
  },
  {
   "cell_type": "markdown",
   "id": "bea983a3",
   "metadata": {
    "id": "bea983a3"
   },
   "source": [
    "\n",
    "\n",
    "---\n",
    "\n",
    "### Exercise 1:\n",
    "Write a Python program that checks if a number is positive or negative.\n",
    "\n",
    "```python\n",
    "# Exercise 1\n",
    "```\n",
    "\n",
    "---\n",
    "\n",
    "### Exercise 2:\n",
    "Write a Python function that checks if a string starts with a vowel.\n",
    "\n",
    "```python\n",
    "# Exercise 2\n",
    "```\n",
    "\n",
    "---\n",
    "\n",
    "### Exercise 3:\n",
    "Write a Python program that takes a list of integers and prints \"Even\" for each even number and \"Odd\" for each odd number.\n",
    "\n",
    "```python\n",
    "# Exercise 3\n",
    "```\n",
    "\n",
    "---\n",
    "\n",
    "### Exercise 4:\n",
    "Write a Python program that checks if a given year is a leap year.\n",
    "\n",
    "```python\n",
    "# Exercise 4\n",
    "```\n",
    "\n",
    "---\n",
    "\n",
    "### Exercise 5:\n",
    "Write a Python function that checks if a number is divisible by both 3 and 5.\n",
    "\n",
    "```python\n",
    "# Exercise 5\n",
    "```\n",
    "\n",
    "---\n",
    "\n",
    "### Exercise 6:\n",
    "Write a Python program that prints \"Hot\" if the temperature is above 30, \"Warm\" if it is between 15 and 30, and \"Cold\" if it is below 15.\n",
    "\n",
    "```python\n",
    "# Exercise 6\n",
    "```\n",
    "\n",
    "---\n",
    "\n",
    "### Exercise 7:\n",
    "Write a Python program that checks if a string contains the letter 'a'.\n",
    "\n",
    "```python\n",
    "# Exercise 7\n",
    "```\n",
    "\n",
    "---\n",
    "\n",
    "### Exercise 8:\n",
    "Write a Python function that checks if two numbers are equal, or which one is larger.\n",
    "\n",
    "```python\n",
    "# Exercise 8\n",
    "```\n",
    "\n",
    "---\n",
    "\n",
    "### Exercise 9:\n",
    "Write a Python program that checks if a list is empty.\n",
    "\n",
    "```python\n",
    "# Exercise 9\n",
    "```\n",
    "\n",
    "---\n",
    "\n",
    "### Exercise 10:\n",
    "Write a Python function that takes two strings and checks if they are anagrams.\n",
    "\n",
    "```python\n",
    "# Exercise 10\n",
    "```\n",
    "\n",
    "---\n",
    "\n",
    "### Exercise 11:\n",
    "Write a Python program that checks if a number is prime.\n",
    "\n",
    "```python\n",
    "# Exercise 11\n",
    "```\n",
    "\n",
    "---\n",
    "\n",
    "### Exercise 12:\n",
    "Write a Python program that checks if a list of numbers is sorted in ascending order.\n",
    "\n",
    "```python\n",
    "# Exercise 12\n",
    "```\n",
    "\n",
    "---\n",
    "\n",
    "### Exercise 13:\n",
    "Write a Python function that takes a character and checks if it is a digit.\n",
    "\n",
    "```python\n",
    "# Exercise 13\n",
    "```\n",
    "\n",
    "---\n",
    "\n",
    "### Exercise 14:\n",
    "Write a Python function that checks if a string contains only uppercase letters.\n",
    "\n",
    "```python\n",
    "# Exercise 14\n",
    "```\n",
    "\n",
    "---\n",
    "\n",
    "### Exercise 15:\n",
    "Write a Python program that checks if a number is a multiple of 10.\n",
    "\n",
    "```python\n",
    "# Exercise 15\n",
    "```\n",
    "\n",
    "---\n",
    "\n",
    "### Exercise 16:\n",
    "Write a Python function that checks if a list contains any duplicates.\n",
    "\n",
    "```python\n",
    "# Exercise 16\n",
    "```\n",
    "\n",
    "---\n",
    "\n",
    "### Exercise 17:\n",
    "Write a Python program that prints \"Teenager\" if the age is between 13 and 19, otherwise it prints \"Not a teenager.\"\n",
    "\n",
    "```python\n",
    "# Exercise 17\n",
    "```\n",
    "\n",
    "---\n",
    "\n",
    "### Exercise 18:\n",
    "Write a Python function that checks if a list contains an element greater than 100.\n",
    "\n",
    "```python\n",
    "# Exercise 18\n",
    "```\n",
    "\n",
    "---\n",
    "\n",
    "### Exercise 19:\n",
    "Write a Python program that checks if a number is even or odd.\n",
    "\n",
    "```python\n",
    "# Exercise 19\n",
    "```\n",
    "\n",
    "---\n",
    "\n",
    "### Exercise 20:\n",
    "Write a Python function that checks if a string ends with a punctuation mark.\n",
    "\n",
    "```python\n",
    "# Exercise 20\n",
    "```\n",
    "\n",
    "---\n",
    "\n",
    "### Exercise 21:\n",
    "Write a Python program that prints \"Yes\" if the number is between 1 and 100, otherwise it prints \"No.\"\n",
    "\n",
    "```python\n",
    "# Exercise 21\n",
    "```\n",
    "\n",
    "---\n",
    "\n",
    "### Exercise 22:\n",
    "Write a Python program that checks if two strings have the same length.\n",
    "\n",
    "```python\n",
    "# Exercise 22\n",
    "```\n",
    "\n",
    "---\n",
    "\n",
    "### Exercise 23:\n",
    "Write a Python function that checks if a number is greater than its reverse.\n",
    "\n",
    "```python\n",
    "# Exercise 23\n",
    "```\n",
    "\n",
    "---\n",
    "\n",
    "### Exercise 24:\n",
    "Write a Python program that checks if a password contains both letters and numbers.\n",
    "\n",
    "```python\n",
    "# Exercise 24\n",
    "```\n",
    "\n",
    "---\n",
    "\n",
    "### Exercise 25:\n",
    "Write a Python program that checks if a number is between two given numbers.\n",
    "\n",
    "```python\n",
    "# Exercise 25\n",
    "```\n",
    "\n",
    "---\n",
    "\n",
    "### Exercise 26:\n",
    "Write a Python function that checks if all characters in a string are unique.\n",
    "\n",
    "```python\n",
    "# Exercise 26\n",
    "```\n",
    "\n",
    "---\n",
    "\n",
    "### Exercise 27:\n",
    "Write a Python program that checks if a number is a perfect square.\n",
    "\n",
    "```python\n",
    "# Exercise 27\n",
    "```\n",
    "\n",
    "---\n",
    "\n",
    "### Exercise 28:\n",
    "Write a Python function that checks if a word is a palindrome.\n",
    "\n",
    "```python\n",
    "# Exercise 28\n",
    "```\n",
    "\n",
    "---\n",
    "\n",
    "### Exercise 29:\n",
    "Write a Python program that prints \"Fizz\" if a number is divisible by 3, \"Buzz\" if it is divisible by 5, and \"FizzBuzz\" if divisible by both.\n",
    "\n",
    "```python\n",
    "# Exercise 29\n",
    "```\n",
    "\n",
    "---\n",
    "\n",
    "### Exercise 30:\n",
    "Write a Python program that checks if the sum of the digits of a number is even.\n",
    "\n",
    "```python\n",
    "# Exercise 30\n",
    "```\n",
    "\n",
    "---\n",
    "\n",
    "### Exercise 31:\n",
    "Write a Python program that checks if a string is a valid email address.\n",
    "\n",
    "```python\n",
    "# Exercise 31\n",
    "```\n",
    "\n",
    "---\n",
    "\n",
    "### Exercise 32:\n",
    "Write a Python function that checks if a number is within 10 of 100 or 200.\n",
    "\n",
    "```python\n",
    "# Exercise 32\n",
    "```\n",
    "\n",
    "---\n",
    "\n",
    "### Exercise 33:\n",
    "Write a Python program that checks if a given string is a valid URL.\n",
    "\n",
    "```python\n",
    "# Exercise 33\n",
    "```\n",
    "\n",
    "---\n",
    "\n",
    "### Exercise 34:\n",
    "Write a Python program that checks if a list contains all even numbers.\n",
    "\n",
    "```python\n",
    "# Exercise 34\n",
    "```\n",
    "\n",
    "---\n",
    "\n",
    "### Exercise 35:\n",
    "Write a Python program that checks if a word is longer than a given length.\n",
    "\n",
    "```python\n",
    "# Exercise 35\n",
    "```\n",
    "\n",
    "---\n",
    "\n",
    "### Exercise 36:\n",
    "Write a Python program that checks if a list contains only positive numbers.\n",
    "\n",
    "```python\n",
    "# Exercise 36\n",
    "```\n",
    "\n",
    "---\n",
    "\n",
    "### Exercise 37:\n",
    "Write a Python function that checks if a year is a century year (i.e., divisible by 100).\n",
    "\n",
    "```python\n",
    "# Exercise 37\n",
    "```\n",
    "\n",
    "---\n",
    "\n",
    "### Exercise 38:\n",
    "Write a Python program that checks if the sum of a list of numbers is greater than 100.\n",
    "\n",
    "```python\n",
    "# Exercise 38\n",
    "```\n",
    "\n",
    "---\n",
    "\n",
    "### Exercise 39:\n",
    "Write a Python function that checks if a given word is a substring of another string.\n",
    "\n",
    "```python\n",
    "# Exercise 39\n",
    "```\n",
    "\n",
    "---\n",
    "\n",
    "### Exercise 40:\n",
    "Write a Python program that checks if a number is a power of 2.\n",
    "\n",
    "```python\n",
    "# Exercise 40\n",
    "```\n",
    "\n",
    "---\n",
    "\n",
    "### Exercise 41:\n",
    "Write a Python function that checks if a string contains no spaces.\n",
    "\n",
    "```python\n",
    "# Exercise 41\n",
    "```\n",
    "\n",
    "---\n",
    "\n",
    "### Exercise 42:\n",
    "Write a Python program that prints \"Yes\" if a number is divisible by both 2 and 3, otherwise it prints \"No.\"\n",
    "\n",
    "```python\n",
    "# Exercise 42\n",
    "```\n",
    "\n",
    "---\n",
    "\n",
    "### Exercise 43:\n",
    "Write a Python program that checks if a number is a palindrome.\n",
    "\n",
    "```python\n",
    "# Exercise 43\n",
    "```\n",
    "\n",
    "---\n",
    "\n",
    "### Exercise 44:\n",
    "Write a Python function that checks if a string is made of only lowercase letters.\n",
    "\n",
    "```python\n",
    "# Exercise 44\n",
    "```\n",
    "\n",
    "---\n",
    "\n",
    "### Exercise 45:\n",
    "Write a Python program that checks if a string starts with a specific prefix.\n",
    "\n",
    "```python\n",
    "# Exercise 45\n",
    "```\n",
    "\n",
    "---\n",
    "\n",
    "### Exercise 46:\n",
    "Write a Python function that checks if a number is divisible by any number in a given list.\n",
    "\n",
    "```python\n",
    "# Exercise 46\n",
    "```\n",
    "\n",
    "---\n",
    "\n",
    "### Exercise 47:\n",
    "Write a Python program that prints \"Yes\" if a string has more than one occurrence of the same letter.\n",
    "\n",
    "```python\n",
    "# Exercise 47\n",
    "```\n",
    "\n",
    "---\n",
    "\n",
    "### Exercise 48:\n",
    "Write a Python function that checks if a number is prime by dividing it by numbers up to its square root.\n",
    "\n",
    "```python\n",
    "# Exercise 48\n",
    "```\n",
    "\n",
    "---\n",
    "\n",
    "### Exercise 49:\n",
    "Write a Python program that checks if a number is within 1 of a multiple of 10.\n",
    "\n",
    "```python\n",
    "# Exercise 49\n",
    "```\n",
    "\n",
    "---\n",
    "\n",
    "### Exercise 50:\n",
    "Write a Python program that prints \"In range\" if a number is between 10 and 20 (inclusive), otherwise it prints \"Out of range.\"\n",
    "\n",
    "```python\n",
    "# Exercise 50\n",
    "```\n",
    "\n",
    "---\n"
   ]
  },
  {
   "cell_type": "code",
   "execution_count": 6,
   "id": "a73c7ea5-a033-41c2-a8b8-23a19a9a0392",
   "metadata": {},
   "outputs": [
    {
     "name": "stdin",
     "output_type": "stream",
     "text": [
      "Enter a number 4\n"
     ]
    },
    {
     "name": "stdout",
     "output_type": "stream",
     "text": [
      "It is positive number\n"
     ]
    }
   ],
   "source": [
    "#Exercise 1:\n",
    "#Write a Python program that checks if a number is positive or negative.\n",
    "number = float(input(\"Enter a number\"))\n",
    "if number > 0:\n",
    "    print(\"It is positive number\")\n",
    "else:\n",
    "    print(\"It is negative number\")"
   ]
  },
  {
   "cell_type": "code",
   "execution_count": 8,
   "id": "e918b5c4-cf79-4fd7-b7a2-e1ebcdbaf51e",
   "metadata": {},
   "outputs": [
    {
     "name": "stdout",
     "output_type": "stream",
     "text": [
      "True\n",
      "False\n"
     ]
    }
   ],
   "source": [
    "#Exercise 2:\n",
    "#Write a Python function that checks if a string starts with a vowel.\n",
    "def starts_with_vowel(s):\n",
    "    return bool(s) and s[0].lower() in \"aeiou\"\n",
    "\n",
    "# Example usage:\n",
    "print(starts_with_vowel(\"Orange\"))  \n",
    "print(starts_with_vowel(\"Banana\"))  \n"
   ]
  },
  {
   "cell_type": "code",
   "execution_count": 16,
   "id": "3f51b90a-a3b4-4aec-9aef-2062396c89a4",
   "metadata": {},
   "outputs": [
    {
     "name": "stdin",
     "output_type": "stream",
     "text": [
      "Enter a number 45\n"
     ]
    },
    {
     "name": "stdout",
     "output_type": "stream",
     "text": [
      "It is an odd number\n"
     ]
    }
   ],
   "source": [
    "#Exercise 3:\n",
    "#Write a Python program that takes a list of integers and prints \"Even\" for each even number and \"Odd\" for each odd number.\n",
    "number = int(input(\"Enter a number\"))\n",
    "\n",
    "if number % 2 == 0:\n",
    "    print(\"It is an even number\")\n",
    "else:\n",
    "    print(\"It is an odd number\")"
   ]
  },
  {
   "cell_type": "code",
   "execution_count": 24,
   "id": "9639fdfa-afed-45bc-97f8-209574795ab4",
   "metadata": {},
   "outputs": [
    {
     "name": "stdin",
     "output_type": "stream",
     "text": [
      "Enter a year:  2048\n"
     ]
    },
    {
     "name": "stdout",
     "output_type": "stream",
     "text": [
      "2048 is a leap year.\n"
     ]
    }
   ],
   "source": [
    "#Exercise 4:\n",
    "#Write a Python program that checks if a given year is a leap year.\n",
    "year = int(input(\"Enter a year: \"))\n",
    "if year % 4 == 0 : \n",
    "    print(f\"{year} is a leap year.\")\n",
    "else:\n",
    "    print(f\"{year} is not a leap year.\")"
   ]
  },
  {
   "cell_type": "code",
   "execution_count": 28,
   "id": "82bbe00b-e0e6-49c9-8ab3-85e47406dbbf",
   "metadata": {},
   "outputs": [
    {
     "name": "stdin",
     "output_type": "stream",
     "text": [
      "Enter a number:  40\n"
     ]
    },
    {
     "name": "stdout",
     "output_type": "stream",
     "text": [
      "40 is divisible by 3 and  5\n"
     ]
    }
   ],
   "source": [
    "number = int(input(\"Enter a number: \"))\n",
    "if number % 3 == 0 or number % 5 == 0:\n",
    "    print(f\"{number} is divisible by 3 and  5\")\n",
    "    "
   ]
  },
  {
   "cell_type": "code",
   "execution_count": 30,
   "id": "d25e6c68-5841-45d1-9ce4-fcd92abcce12",
   "metadata": {},
   "outputs": [
    {
     "name": "stdin",
     "output_type": "stream",
     "text": [
      "Enter a number:  40\n"
     ]
    },
    {
     "name": "stdout",
     "output_type": "stream",
     "text": [
      "40 is not divisible by both 3 and 5.\n"
     ]
    }
   ],
   "source": [
    "#Exercise 5:\n",
    "#Write a Python function that checks if a number is divisible by both 3 and 5.\n",
    "number = int(input(\"Enter a number: \"))\n",
    "def divisible_by_3_and_5(n):\n",
    "    return n % 3 == 0 and n % 5 == 0\n",
    "\n",
    "if divisible_by_3_and_5(number):\n",
    "    print(f\"{number} is divisible by both 3 and 5.\")\n",
    "else:\n",
    "    print(f\"{number} is not divisible by both 3 and 5.\")\n"
   ]
  },
  {
   "cell_type": "code",
   "execution_count": 34,
   "id": "fb7dd249-9c53-4ed4-9aaf-580394cc94e4",
   "metadata": {},
   "outputs": [
    {
     "name": "stdin",
     "output_type": "stream",
     "text": [
      "Enter the temperature:  32\n"
     ]
    },
    {
     "name": "stdout",
     "output_type": "stream",
     "text": [
      "temperature is Hot\n"
     ]
    }
   ],
   "source": [
    "#Exercise 6:\n",
    "#Write a Python program that prints \"Hot\" if the temperature is above 30, \"Warm\" if it is between 15 and 30, and \"Cold\" if it is below 15.\n",
    "temperature = float(input(\"Enter the temperature: \"))\n",
    "\n",
    "if temperature > 30:\n",
    "    print(\"temperature is Hot\")\n",
    "elif 15 <= temperature <= 30:\n",
    "    print(\"temperature is Warm\")\n",
    "else:\n",
    "    print(\"temperature is Cold\")"
   ]
  },
  {
   "cell_type": "code",
   "execution_count": 3,
   "id": "501ba218-db59-4ead-bd9f-567f0c1788be",
   "metadata": {},
   "outputs": [
    {
     "name": "stdin",
     "output_type": "stream",
     "text": [
      "Enter a string:  I am a Colombia that came to Senegal\n"
     ]
    },
    {
     "name": "stdout",
     "output_type": "stream",
     "text": [
      "The string contains the letter 'a'\n"
     ]
    }
   ],
   "source": [
    "#Exercise 7:\n",
    "#Write a Python program that checks if a string contains the letter 'a'.\n",
    "text = input(\"Enter a string: \")\n",
    "if 'a' in text:\n",
    "    print(\"The string contains the letter 'a'\")\n",
    "else:\n",
    "    print(\"The string does not contain the letter 'a'\")"
   ]
  },
  {
   "cell_type": "code",
   "execution_count": 41,
   "id": "f700b4c4-b963-4616-814e-da1d585171a3",
   "metadata": {},
   "outputs": [
    {
     "name": "stdin",
     "output_type": "stream",
     "text": [
      "Enter a number a:  3\n",
      "Enter a number b:  2\n"
     ]
    },
    {
     "name": "stdout",
     "output_type": "stream",
     "text": [
      "print a is larger\n"
     ]
    }
   ],
   "source": [
    "#Exercise 8:\n",
    "#Write a Python function that checks if two numbers are equal, or which one is larger.\n",
    "a = float(input(\"Enter a number a: \"))\n",
    "b = float(input(\"Enter a number b: \"))\n",
    "if a == b:\n",
    "    print(\"They are eqaul\")\n",
    "elif a > b:\n",
    "    print(\"print a is larger\")\n",
    "else:\n",
    "    print(\"b is larger\")"
   ]
  },
  {
   "cell_type": "code",
   "execution_count": 42,
   "id": "a5db6945-d773-4138-9e8b-9243e470debc",
   "metadata": {},
   "outputs": [
    {
     "name": "stdout",
     "output_type": "stream",
     "text": [
      "The list is empty\n"
     ]
    }
   ],
   "source": [
    "#Exercise 9:\n",
    "#Write a Python program that checks if a list is empty.\n",
    "fruits = []\n",
    "if len(fruits) == 0:\n",
    "    print(\"The list is empty\")\n",
    "else:\n",
    "    print(\"The list is not empty\")"
   ]
  },
  {
   "cell_type": "code",
   "execution_count": 6,
   "id": "f045a1f0-2fe4-4ece-8159-d3f2c70b1e24",
   "metadata": {},
   "outputs": [
    {
     "name": "stdin",
     "output_type": "stream",
     "text": [
      "Enter a number:  423462384423\n"
     ]
    },
    {
     "name": "stdout",
     "output_type": "stream",
     "text": [
      "32843274682374 is not a prime number.\n"
     ]
    }
   ],
   "source": [
    "#Exercise 11:\n",
    "#Write a Python program that checks if a number is prime.\n",
    "def is_prime(num):\n",
    "    if num <= 1:\n",
    "        return False\n",
    "    for i in range(2, int(num**0.5) + 1):\n",
    "        if num % i == 0:\n",
    "            return False\n",
    "    return True\n",
    "\n",
    "number = int(input(\"Enter a number: \"))\n",
    "if is_prime(a):\n",
    "    print(a, \"is a prime number.\")\n",
    "else:\n",
    "    print(a, \"is not a prime number.\")"
   ]
  },
  {
   "cell_type": "code",
   "execution_count": 46,
   "id": "30db730d-0f5d-4cd7-b31c-ac5f3aae1307",
   "metadata": {},
   "outputs": [
    {
     "name": "stdin",
     "output_type": "stream",
     "text": [
      "Enter number 3\n"
     ]
    },
    {
     "name": "stdout",
     "output_type": "stream",
     "text": [
      "The list is sorted in ascending order.\n"
     ]
    }
   ],
   "source": [
    "#Exercise 12:¶\n",
    "#Write a Python program that checks if a list of numbers is sorted in ascending order.\n",
    "numbers = list(input(\"Enter number\"))\n",
    "\n",
    "# Method 1: Compare to sorted()\n",
    "if numbers == sorted(numbers):\n",
    "    print(\"The list is sorted in ascending order.\")\n",
    "else:\n",
    "    print(\"The list is NOT sorted in ascending order.\")\n"
   ]
  },
  {
   "cell_type": "code",
   "execution_count": 1,
   "id": "c234d20f-7433-4e95-bbbc-a8ccadff3c2b",
   "metadata": {},
   "outputs": [
    {
     "name": "stdout",
     "output_type": "stream",
     "text": [
      "True\n",
      "False\n",
      "True\n",
      "True\n",
      "False\n"
     ]
    }
   ],
   "source": [
    "#Exercise 13:\n",
    "#Write a Python function that takes a character and checks if it is a digit.\n",
    "def is_digit(char):\n",
    "    return char >= '0' and char <= '9'\n",
    "\n",
    "print(is_digit('5'))   \n",
    "print(is_digit('a'))   \n",
    "print(is_digit('0'))   \n",
    "print(is_digit('9'))   \n",
    "print(is_digit('x'))   "
   ]
  },
  {
   "cell_type": "code",
   "execution_count": 47,
   "id": "8d375030-454d-4bef-98c5-4372c1a4b982",
   "metadata": {},
   "outputs": [
    {
     "name": "stdin",
     "output_type": "stream",
     "text": [
      "Enter a string:  Al na\n"
     ]
    },
    {
     "name": "stdout",
     "output_type": "stream",
     "text": [
      "The string does not contain only uppercase letters.\n"
     ]
    }
   ],
   "source": [
    "#Exercise 14:\n",
    "#Write a Python function that checks if a string contains only uppercase letters.\n",
    "def is_all_uppercase(s):\n",
    "    return s.isupper()\n",
    "\n",
    "string = input(\"Enter a string: \")\n",
    "if is_all_uppercase(string):\n",
    "    print(\"The string contains only uppercase letters.\")\n",
    "else:\n",
    "    print(\"The string does not contain only uppercase letters.\")"
   ]
  },
  {
   "cell_type": "code",
   "execution_count": 7,
   "id": "f37c506f-732f-4352-880b-5b50541a96e4",
   "metadata": {},
   "outputs": [
    {
     "name": "stdin",
     "output_type": "stream",
     "text": [
      "Enter a number:  243\n"
     ]
    },
    {
     "name": "stdout",
     "output_type": "stream",
     "text": [
      "243 is not a multiple of 10.\n"
     ]
    }
   ],
   "source": [
    "# Exercise 15:\n",
    "num = int(input(\"Enter a number: \"))\n",
    "\n",
    "if num % 10 == 0:\n",
    "    print(num, \"is a multiple of 10.\")\n",
    "else:\n",
    "    print(num, \"is not a multiple of 10.\")"
   ]
  },
  {
   "cell_type": "code",
   "execution_count": 9,
   "id": "26b53a24-d0e6-4d4d-bac6-1e63664aae67",
   "metadata": {},
   "outputs": [
    {
     "name": "stdout",
     "output_type": "stream",
     "text": [
      "False\n",
      "True\n"
     ]
    }
   ],
   "source": [
    "# Exercise 16:\n",
    "#Write a Python function that checks if a list contains any duplicates.\n",
    "def has_duplicates(lst):\n",
    "    return len(lst) != len(set(lst))\n",
    "\n",
    "nums = [4, 45, 13, 56, 15, 67]\n",
    "print(has_duplicates(nums))\n",
    "\n",
    "nums2 = [1, 22, 22, 4, 5]\n",
    "print(has_duplicates(nums2))"
   ]
  },
  {
   "cell_type": "code",
   "execution_count": 10,
   "id": "f3100282-f0a4-4755-8d91-4057bc04164a",
   "metadata": {},
   "outputs": [
    {
     "name": "stdin",
     "output_type": "stream",
     "text": [
      "Enter age:  34\n"
     ]
    },
    {
     "name": "stdout",
     "output_type": "stream",
     "text": [
      "Not a teenager\n"
     ]
    }
   ],
   "source": [
    "# Exercise 17:\n",
    "#Write a Python program that prints \"Teenager\" if the age is between 13 and 19, otherwise it prints \"Not a teenager.\"\n",
    "age = int(input(\"Enter age: \"))\n",
    "\n",
    "if 13 <= age <= 19:\n",
    "    print(\"Teenager\")\n",
    "else:\n",
    "    print(\"Not a teenager\")"
   ]
  },
  {
   "cell_type": "code",
   "execution_count": 11,
   "id": "16badc31-ab66-4062-8f9e-d9a2bbe13cd0",
   "metadata": {},
   "outputs": [
    {
     "name": "stdout",
     "output_type": "stream",
     "text": [
      "False\n",
      "True\n"
     ]
    }
   ],
   "source": [
    "# Exercise 18:\n",
    "#Write a Python function that checks if a list contains an element greater than 100.\n",
    "def has_greater_than_100(lst):\n",
    "    for x in lst:\n",
    "        if x > 100:\n",
    "            return True\n",
    "    return False\n",
    "\n",
    "# Example \n",
    "nums1 = [10, 45, 99, 100]\n",
    "print(has_greater_than_100(nums1))  # False\n",
    "\n",
    "nums2 = [5, 101, 20]\n",
    "print(has_greater_than_100(nums2))  # True"
   ]
  },
  {
   "cell_type": "code",
   "execution_count": 12,
   "id": "b6d7245c-4219-474d-a652-0003694a3a8b",
   "metadata": {},
   "outputs": [
    {
     "name": "stdin",
     "output_type": "stream",
     "text": [
      "Enter a number:  34\n"
     ]
    },
    {
     "name": "stdout",
     "output_type": "stream",
     "text": [
      "34 is even.\n"
     ]
    }
   ],
   "source": [
    "# Exercise 19:\n",
    "#Write a Python program that checks if a number is even or odd.\n",
    "num = int(input(\"Enter a number: \"))\n",
    "\n",
    "if num % 2 == 0:\n",
    "    print(num, \"is even.\")\n",
    "else:\n",
    "    print(num, \"is odd.\")"
   ]
  },
  {
   "cell_type": "code",
   "execution_count": 13,
   "id": "2f8b9dad-22d0-4d9b-830b-f63c6eefb14e",
   "metadata": {},
   "outputs": [
    {
     "name": "stdout",
     "output_type": "stream",
     "text": [
      "True\n",
      "False\n",
      "True\n",
      "False\n"
     ]
    }
   ],
   "source": [
    "# Exercise 20:\n",
    "#Write a Python function that checks if a string ends with a punctuation mark.\n",
    "def ends_with_punctuation(s):\n",
    "    punctuation = '.!?;:,'\n",
    "    return len(s) > 0 and s[-1] in punctuation\n",
    "\n",
    "# Example\n",
    "print(ends_with_punctuation(\"Hello!\"))  \n",
    "print(ends_with_punctuation(\"How are you\"))\n",
    "print(ends_with_punctuation(\"Let's go.\"))\n",
    "print(ends_with_punctuation(\"\"))  "
   ]
  },
  {
   "cell_type": "code",
   "execution_count": 15,
   "id": "63a9ef2d-8817-4896-a11c-7a93f51150eb",
   "metadata": {},
   "outputs": [
    {
     "name": "stdin",
     "output_type": "stream",
     "text": [
      "Enter a number:  3432\n"
     ]
    },
    {
     "name": "stdout",
     "output_type": "stream",
     "text": [
      "No\n"
     ]
    }
   ],
   "source": [
    "# Exercise 21:\n",
    "#Write a Python program that prints \"Yes\" if the number is between 1 and 100, otherwise it prints \"No.\"\n",
    "num = int(input(\"Enter a number: \"))\n",
    "\n",
    "if 1 <= num <= 100:\n",
    "    print(\"Yes\")\n",
    "else:\n",
    "    print(\"No\")"
   ]
  },
  {
   "cell_type": "code",
   "execution_count": 16,
   "id": "02dfe957-3a53-4e53-94df-6aa0724d5350",
   "metadata": {},
   "outputs": [
    {
     "name": "stdin",
     "output_type": "stream",
     "text": [
      "Enter the first string:  ery\n",
      "Enter the second string:  adsjdhas\n"
     ]
    },
    {
     "name": "stdout",
     "output_type": "stream",
     "text": [
      "The strings do not have the same length.\n"
     ]
    }
   ],
   "source": [
    "# Exercise 22:\n",
    "#Write a Python program that checks if two strings have the same length.\n",
    "str1 = input(\"Enter the first string: \")\n",
    "str2 = input(\"Enter the second string: \")\n",
    "\n",
    "if len(str1) == len(str2):\n",
    "    print(\"The strings have the same length.\")\n",
    "else:\n",
    "    print(\"The strings do not have the same length.\")"
   ]
  },
  {
   "cell_type": "code",
   "execution_count": 17,
   "id": "5a816c87-4150-4fb9-8bfa-941e0ee403f1",
   "metadata": {},
   "outputs": [
    {
     "name": "stdout",
     "output_type": "stream",
     "text": [
      "False\n",
      "True\n",
      "True\n"
     ]
    }
   ],
   "source": [
    "# Exercise 23:\n",
    "#Write a Python function that checks if a number is greater than its reverse.\n",
    "def is_greater_than_reverse(num):\n",
    "    # Get the reverse of the number as an integer\n",
    "    reverse_num = int(str(num)[::-1])\n",
    "    return num > reverse_num\n",
    "\n",
    "# Example\n",
    "print(is_greater_than_reverse(123))   \n",
    "print(is_greater_than_reverse(321))   \n",
    "print(is_greater_than_reverse(100))   "
   ]
  },
  {
   "cell_type": "code",
   "execution_count": 18,
   "id": "54aab757-8502-429b-aad2-2fe4bf25497a",
   "metadata": {},
   "outputs": [
    {
     "name": "stdin",
     "output_type": "stream",
     "text": [
      "Enter password:  243daskheq\n"
     ]
    },
    {
     "name": "stdout",
     "output_type": "stream",
     "text": [
      "Password contains both letters and numbers.\n"
     ]
    }
   ],
   "source": [
    "# Exercise 24:\n",
    "#Write a Python program that checks if a password contains both letters and numbers.\n",
    "password = input(\"Enter password: \")\n",
    "\n",
    "has_letter = False\n",
    "has_digit = False\n",
    "\n",
    "for ch in password:\n",
    "    if ('a' <= ch <= 'z') or ('A' <= ch <= 'Z'):\n",
    "        has_letter = True\n",
    "    if '0' <= ch <= '9':\n",
    "        has_digit = True\n",
    "\n",
    "if has_letter and has_digit:\n",
    "    print(\"Password contains both letters and numbers.\")\n",
    "else:\n",
    "    print(\"Password does not contain both letters and numbers.\")"
   ]
  },
  {
   "cell_type": "code",
   "execution_count": 19,
   "id": "851976b0-b31a-4c5f-ad1d-abc8b087242a",
   "metadata": {},
   "outputs": [
    {
     "name": "stdin",
     "output_type": "stream",
     "text": [
      "Enter the first number:  23432\n",
      "Enter the second number:  2\n",
      "Enter the number to check:  21\n"
     ]
    },
    {
     "name": "stdout",
     "output_type": "stream",
     "text": [
      "Yes, the number is between 2 and 23432\n"
     ]
    }
   ],
   "source": [
    "# Exercise 25:\n",
    "#Write a Python program that checks if a number is between two given numbers.\n",
    "num1 = int(input(\"Enter the first number: \"))\n",
    "num2 = int(input(\"Enter the second number: \"))\n",
    "value = int(input(\"Enter the number to check: \"))\n",
    "\n",
    "\n",
    "low = min(num1, num2)\n",
    "high = max(num1, num2)\n",
    "\n",
    "if low <= value <= high:\n",
    "    print(\"Yes, the number is between\", low, \"and\", high)\n",
    "else:\n",
    "    print(\"No, the number is not between\", low, \"and\", high)"
   ]
  },
  {
   "cell_type": "code",
   "execution_count": 22,
   "id": "2124fa56-58ae-4022-b1ff-dedf9ac2eff3",
   "metadata": {},
   "outputs": [
    {
     "name": "stdout",
     "output_type": "stream",
     "text": [
      "False\n",
      "False\n"
     ]
    }
   ],
   "source": [
    "# Exercise 26:\n",
    "#Write a Python function that checks if all characters in a string are unique.\n",
    "def all_unique(s):\n",
    "    for i in range(len(s)):\n",
    "        for j in range(i+1, len(s)):\n",
    "            if s[i] == s[j]:\n",
    "                return False\n",
    "    return True\n",
    "\n",
    "# Example\n",
    "print(all_unique(\"Federal Government College\"))\n",
    "print(all_unique(\"hello\")) \n"
   ]
  },
  {
   "cell_type": "code",
   "execution_count": 23,
   "id": "b7c08ef7-84d1-4d85-a111-52546ff36579",
   "metadata": {},
   "outputs": [
    {
     "name": "stdin",
     "output_type": "stream",
     "text": [
      "Enter a number:  64\n"
     ]
    },
    {
     "name": "stdout",
     "output_type": "stream",
     "text": [
      "64 is a perfect square.\n"
     ]
    }
   ],
   "source": [
    "# Exercise 27:\n",
    "#Write a Python program that checks if a number is a perfect square.\n",
    "num = int(input(\"Enter a number: \"))\n",
    "i = 0\n",
    "\n",
    "while i * i < num:\n",
    "    i += 1\n",
    "\n",
    "if i * i == num:\n",
    "    print(num, \"is a perfect square.\")\n",
    "else:\n",
    "    print(num, \"is not a perfect square.\")"
   ]
  },
  {
   "cell_type": "code",
   "execution_count": 24,
   "id": "1b6aca14-7c19-4ac9-b5d8-05e7beba3c62",
   "metadata": {},
   "outputs": [
    {
     "name": "stdout",
     "output_type": "stream",
     "text": [
      "True\n",
      "False\n"
     ]
    }
   ],
   "source": [
    "# Exercise 28:\n",
    "#Write a Python function that checks if a word is a palindrome.\n",
    "def is_palindrome(word):\n",
    "    return word == word[::-1]\n",
    "\n",
    "# Example usage\n",
    "print(is_palindrome(\"radar\")) \n",
    "print(is_palindrome(\"python\"))"
   ]
  },
  {
   "cell_type": "code",
   "execution_count": 25,
   "id": "1c1d5d1b-e3e9-41d3-bc9d-0add4125095d",
   "metadata": {},
   "outputs": [
    {
     "name": "stdin",
     "output_type": "stream",
     "text": [
      "Enter a number:  413\n"
     ]
    },
    {
     "name": "stdout",
     "output_type": "stream",
     "text": [
      "413\n"
     ]
    }
   ],
   "source": [
    "# Exercise 29:\n",
    "#Write a Python program that prints \"Fizz\" if a number is divisible by 3, \"Buzz\" if it is divisible by 5, and \"FizzBuzz\" if divisible by both.\n",
    "num = int(input(\"Enter a number: \"))\n",
    "\n",
    "if num % 3 == 0 and num % 5 == 0:\n",
    "    print(\"FizzBuzz\")\n",
    "elif num % 3 == 0:\n",
    "    print(\"Fizz\")\n",
    "elif num % 5 == 0:\n",
    "    print(\"Buzz\")\n",
    "else:\n",
    "    print(num)"
   ]
  },
  {
   "cell_type": "code",
   "execution_count": 26,
   "id": "65b9de08-7226-4336-b220-0fc691400674",
   "metadata": {},
   "outputs": [
    {
     "name": "stdin",
     "output_type": "stream",
     "text": [
      "Enter a number:  213\n"
     ]
    },
    {
     "name": "stdout",
     "output_type": "stream",
     "text": [
      "The sum of the digits is even.\n"
     ]
    }
   ],
   "source": [
    "# Exercise 30:\n",
    "#Write a Python program that checks if the sum of the digits of a number is even.\n",
    "num = int(input(\"Enter a number: \"))\n",
    "total = 0\n",
    "n = num\n",
    "\n",
    "while n > 0:\n",
    "    total += n % 10\n",
    "    n //= 10\n",
    "\n",
    "if total % 2 == 0:\n",
    "    print(\"The sum of the digits is even.\")\n",
    "else:\n",
    "    print(\"The sum of the digits is odd.\")"
   ]
  },
  {
   "cell_type": "code",
   "execution_count": 27,
   "id": "24ec9281-badf-4fd3-87df-488365cf9570",
   "metadata": {},
   "outputs": [
    {
     "name": "stdin",
     "output_type": "stream",
     "text": [
      "Enter an email address:  danieladashu@gmail.com\n"
     ]
    },
    {
     "name": "stdout",
     "output_type": "stream",
     "text": [
      "Valid email address.\n"
     ]
    }
   ],
   "source": [
    "# Exercise 31:\n",
    "#Write a Python program that checks if a string is a valid email address.\n",
    "email = input(\"Enter an email address: \")\n",
    "\n",
    "if (\"@\" in email and \n",
    "    \".\" in email and \n",
    "    email.count(\"@\") == 1 and\n",
    "    email.index(\"@\") > 0 and \n",
    "    email.index(\".\") > email.index(\"@\") + 1 and\n",
    "    email[-1] != \".\"):\n",
    "    print(\"Valid email address.\")\n",
    "else:\n",
    "    print(\"Invalid email address.\")"
   ]
  },
  {
   "cell_type": "code",
   "execution_count": 28,
   "id": "41d98cfb-2b8b-4e3d-ad13-5464c7f0eda6",
   "metadata": {},
   "outputs": [
    {
     "name": "stdout",
     "output_type": "stream",
     "text": [
      "True\n",
      "True\n",
      "False\n"
     ]
    }
   ],
   "source": [
    "# Exercise 32:\n",
    "#Write a Python function that checks if a number is within 10 of 100 or 200.\n",
    "def within_10_of_100_or_200(num):\n",
    "    return abs(100 - num) <= 10 or abs(200 - num) <= 10\n",
    "\n",
    "print(within_10_of_100_or_200(95))   \n",
    "print(within_10_of_100_or_200(205))  \n",
    "print(within_10_of_100_or_200(150))  "
   ]
  },
  {
   "cell_type": "code",
   "execution_count": 30,
   "id": "2feb0b4e-a6fc-4498-8bba-98a2525307cc",
   "metadata": {},
   "outputs": [
    {
     "name": "stdin",
     "output_type": "stream",
     "text": [
      "Enter a URL:  http://adashudaniel.facebook.com\n"
     ]
    },
    {
     "name": "stdout",
     "output_type": "stream",
     "text": [
      "Valid URL.\n"
     ]
    }
   ],
   "source": [
    "# Exercise 33:\n",
    "#Write a Python program that checks if a given string is a valid URL.\n",
    "url = input(\"Enter a URL: \")\n",
    "\n",
    "if (url.startswith(\"http://\") or url.startswith(\"https://\")) and \".\" in url and len(url) > 8:\n",
    "    print(\"Valid URL.\")\n",
    "else:\n",
    "    print(\"Invalid URL.\")"
   ]
  },
  {
   "cell_type": "code",
   "execution_count": 31,
   "id": "6adb0e73-33c5-4d9a-a2f4-17c3e3976b2c",
   "metadata": {},
   "outputs": [
    {
     "name": "stdin",
     "output_type": "stream",
     "text": [
      "Enter numbers separated by spaces:  24342\n"
     ]
    },
    {
     "name": "stdout",
     "output_type": "stream",
     "text": [
      "All numbers in the list are even.\n"
     ]
    }
   ],
   "source": [
    "# Exercise 34:\n",
    "#Write a Python program that checks if a list contains all even numbers.\n",
    "lst = input(\"Enter numbers separated by spaces: \").split()\n",
    "all_even = True\n",
    "\n",
    "for num in lst:\n",
    "    if int(num) % 2 != 0:\n",
    "        all_even = False\n",
    "        break\n",
    "\n",
    "if all_even:\n",
    "    print(\"All numbers in the list are even.\")\n",
    "else:\n",
    "    print(\"Not all numbers in the list are even.\")"
   ]
  },
  {
   "cell_type": "code",
   "execution_count": 32,
   "id": "996c30b7-4a62-4bf0-943c-03d3bc7ff3f1",
   "metadata": {},
   "outputs": [
    {
     "name": "stdin",
     "output_type": "stream",
     "text": [
      "Enter a word:  Wonderfulness\n",
      "Enter the length to check:  6\n"
     ]
    },
    {
     "name": "stdout",
     "output_type": "stream",
     "text": [
      "The word is longer than 6\n"
     ]
    }
   ],
   "source": [
    "# Exercise 35:\n",
    "#Write a Python program that checks if a word is longer than a given length.\n",
    "word = input(\"Enter a word: \")\n",
    "length = int(input(\"Enter the length to check: \"))\n",
    "\n",
    "if len(word) > length:\n",
    "    print(\"The word is longer than\", length)\n",
    "else:\n",
    "    print(\"The word is not longer than\", length)"
   ]
  },
  {
   "cell_type": "code",
   "execution_count": 33,
   "id": "0c513306-0d41-4803-96a0-5dff1b84df22",
   "metadata": {},
   "outputs": [
    {
     "name": "stdin",
     "output_type": "stream",
     "text": [
      "Enter numbers separated by spaces:  4 23 5 6 67  7 4 3 -1\n"
     ]
    },
    {
     "name": "stdout",
     "output_type": "stream",
     "text": [
      "Not all numbers in the list are positive.\n"
     ]
    }
   ],
   "source": [
    "# Exercise 36:\n",
    "#Write a Python program that checks if a list contains only positive numbers.\n",
    "lst = input(\"Enter numbers separated by spaces: \").split()\n",
    "all_positive = True\n",
    "\n",
    "for num in lst:\n",
    "    if int(num) <= 0:\n",
    "        all_positive = False\n",
    "        break\n",
    "\n",
    "if all_positive:\n",
    "    print(\"All numbers in the list are positive.\")\n",
    "else:\n",
    "    print(\"Not all numbers in the list are positive.\")"
   ]
  },
  {
   "cell_type": "code",
   "execution_count": 34,
   "id": "1bb86676-38a5-4c31-8338-0bfccbb9c45a",
   "metadata": {},
   "outputs": [
    {
     "name": "stdout",
     "output_type": "stream",
     "text": [
      "True\n",
      "False\n",
      "True\n"
     ]
    }
   ],
   "source": [
    "# Exercise 37:\n",
    "#Write a Python function that checks if a year is a century year (i.e., divisible by 100).\n",
    "def is_century_year(year):\n",
    "    return year % 100 == 0\n",
    "\n",
    "# Example \n",
    "print(is_century_year(1900))  \n",
    "print(is_century_year(2025))  \n",
    "print(is_century_year(2000))  "
   ]
  },
  {
   "cell_type": "code",
   "execution_count": 39,
   "id": "9add59e7-e5db-4afc-b8b8-17c1031408b2",
   "metadata": {},
   "outputs": [
    {
     "name": "stdin",
     "output_type": "stream",
     "text": [
      "Enter numbers separated by spaces:  23 54 134\n"
     ]
    },
    {
     "name": "stdout",
     "output_type": "stream",
     "text": [
      "The sum of the numbers is greater than 100.\n"
     ]
    }
   ],
   "source": [
    "# Exercise 38:\n",
    "#Write a Python program that checks if the sum of a list of numbers is greater than 100.\n",
    "numbers = input(\"Enter numbers separated by spaces: \").split()\n",
    "total = 0\n",
    "\n",
    "for num in numbers:\n",
    "    total += int(num)\n",
    "\n",
    "if total > 100:\n",
    "    print(\"The sum of the numbers is greater than 100.\")\n",
    "elif total == 100:\n",
    "    print(\"The sum of the numbers is 100.\")\n",
    "else:    \n",
    "    print(\"The sum of the numbers is not greater than 100.\")"
   ]
  },
  {
   "cell_type": "code",
   "execution_count": 41,
   "id": "2097117b-006e-434c-bc0b-88c0e7cda968",
   "metadata": {},
   "outputs": [
    {
     "name": "stdout",
     "output_type": "stream",
     "text": [
      "True\n",
      "False\n",
      "True\n"
     ]
    }
   ],
   "source": [
    "# Exercise 39:\n",
    "#Write a Python function that checks if a given word is a substring of another string.\n",
    "def is_substring(word, text):\n",
    "    return word in text\n",
    "\n",
    "# Example\n",
    "print(is_substring(\"cat\", \"concatenate\"))\n",
    "print(is_substring(\"bat\", \"concatenate\"))\n",
    "print(is_substring(\"tre\", \"treable\"))"
   ]
  },
  {
   "cell_type": "code",
   "execution_count": 43,
   "id": "3c2a987f-a46b-4234-be38-9c24b2473489",
   "metadata": {},
   "outputs": [
    {
     "name": "stdin",
     "output_type": "stream",
     "text": [
      "Enter a number:  64\n"
     ]
    },
    {
     "name": "stdout",
     "output_type": "stream",
     "text": [
      "64 is a power of two.\n"
     ]
    }
   ],
   "source": [
    "# Exercise 40:\n",
    "#Write a Python program that checks if a number is a power of 2.\n",
    "def is_power_of_two(n):\n",
    "    return n > 0 and (n & (n - 1)) == 0\n",
    "\n",
    "number = int(input(\"Enter a number: \"))\n",
    "if is_power_of_two(number):\n",
    "    print(f\"{number} is a power of two.\")\n",
    "else:\n",
    "    print(f\"{number} is not a power of two.\")"
   ]
  },
  {
   "cell_type": "code",
   "execution_count": 57,
   "id": "0fb4c8f6-ed3f-4968-8226-f7b3de2e5459",
   "metadata": {},
   "outputs": [
    {
     "name": "stdin",
     "output_type": "stream",
     "text": [
      "Enter a string:  das\n"
     ]
    },
    {
     "name": "stdout",
     "output_type": "stream",
     "text": [
      "The string contains no spaces.\n"
     ]
    }
   ],
   "source": [
    "# Exercise 41:\n",
    "#Write a Python function that checks if a string contains no spaces.\n",
    "def has_no_spaces(s):\n",
    "    return \" \" not in s\n",
    "\n",
    "string = input(\"Enter a string: \")\n",
    "if has_no_spaces(string):\n",
    "    print(\"The string contains no spaces.\")\n",
    "else:\n",
    "    print(\"The string contains spaces.\")"
   ]
  },
  {
   "cell_type": "code",
   "execution_count": 56,
   "id": "798d0678-3bc2-45da-a94c-b3d5cc404472",
   "metadata": {},
   "outputs": [
    {
     "name": "stdin",
     "output_type": "stream",
     "text": [
      "Enter a number:  34\n"
     ]
    },
    {
     "name": "stdout",
     "output_type": "stream",
     "text": [
      "No\n"
     ]
    }
   ],
   "source": [
    "# Exercise 42:\n",
    "#Write a Python program that prints \"Yes\" if a number is divisible by both 2 and 3, otherwise it prints \"No.\"\n",
    "num = int(input(\"Enter a number: \"))\n",
    "if num % 2 == 0 and num % 3 == 0:\n",
    "    print(\"Yes\")\n",
    "else:\n",
    "    print(\"No\")"
   ]
  },
  {
   "cell_type": "code",
   "execution_count": 44,
   "id": "04e54ceb-1e66-46ba-84ab-7c667fe0cd8e",
   "metadata": {},
   "outputs": [
    {
     "name": "stdin",
     "output_type": "stream",
     "text": [
      "Enter a number:  4386\n"
     ]
    },
    {
     "name": "stdout",
     "output_type": "stream",
     "text": [
      "No, it's not a palindrome.\n"
     ]
    }
   ],
   "source": [
    "# Exercise 43:\n",
    "#Write a Python program that checks if a number is a palindrome.\n",
    "num = input(\"Enter a number: \")\n",
    "if num == num[::-1]:\n",
    "    print(\"Yes, it's a palindrome.\")\n",
    "else:\n",
    "    print(\"No, it's not a palindrome.\")"
   ]
  },
  {
   "cell_type": "code",
   "execution_count": 54,
   "id": "e976574f-f41b-4f0f-96d0-486503921f23",
   "metadata": {},
   "outputs": [
    {
     "name": "stdin",
     "output_type": "stream",
     "text": [
      "Enter a string:  adasda\n"
     ]
    },
    {
     "name": "stdout",
     "output_type": "stream",
     "text": [
      "The string contains only lowercase letters.\n"
     ]
    }
   ],
   "source": [
    "# Exercise 44:\n",
    "#Write a Python function that checks if a string is made of only lowercase letters.\n",
    "def is_all_lowercase(s):\n",
    "    return s.islower()\n",
    "string = input(\"Enter a string: \")\n",
    "if is_all_lowercase(string):\n",
    "    print(\"The string contains only lowercase letters.\")\n",
    "else:\n",
    "    print(\"The string does not contain only lowercase letters.\")"
   ]
  },
  {
   "cell_type": "code",
   "execution_count": 53,
   "id": "fcaed21e-e0f8-4520-92af-f000cf8ee262",
   "metadata": {},
   "outputs": [
    {
     "name": "stdin",
     "output_type": "stream",
     "text": [
      "Enter a string:  3\n",
      "Enter the prefix to check:  23\n"
     ]
    },
    {
     "name": "stdout",
     "output_type": "stream",
     "text": [
      "The string does not start with the specified prefix.\n"
     ]
    }
   ],
   "source": [
    "# Exercise 45:\n",
    "#Write a Python program that checks if a string starts with a specific prefix.\n",
    "string = input(\"Enter a string: \")\n",
    "prefix = input(\"Enter the prefix to check: \")\n",
    "if string.startswith(prefix):\n",
    "    print(\"The string starts with the specified prefix.\")\n",
    "else:\n",
    "    print(\"The string does not start with the specified prefix.\")"
   ]
  },
  {
   "cell_type": "code",
   "execution_count": null,
   "id": "817c9168-5880-426f-ae39-51f08efeb9db",
   "metadata": {},
   "outputs": [],
   "source": [
    "# Exercise 46:\n",
    "# Write a Python function that checks if a number is divisible by any number in a given list.\n",
    "def divisible_by_any(n, divisors):\n",
    "    return any(n % d == 0 for d in divisors)\n",
    "number = int(input(\"Enter a number: \"))\n",
    "divisor_list = [2, 3, 5, 7]  \n",
    "if divisible_by_any(number, divisor_list):\n",
    "    print(f\"{number} is divisible by at least one number in the list.\")\n",
    "else:\n",
    "    print(f\"{number} is not divisible by any number in the list.\")"
   ]
  },
  {
   "cell_type": "code",
   "execution_count": 51,
   "id": "31cd3b4a-bdf0-4940-a3ba-d06c46fdf7a9",
   "metadata": {},
   "outputs": [
    {
     "name": "stdin",
     "output_type": "stream",
     "text": [
      "Enter a string:  345453dasda\n"
     ]
    },
    {
     "name": "stdout",
     "output_type": "stream",
     "text": [
      "Yes\n"
     ]
    }
   ],
   "source": [
    "# Exercise 47:\n",
    "#Write a Python program that prints \"Yes\" if a string has more than one occurrence of the same letter.\n",
    "s = input(\"Enter a string: \")\n",
    "counts = {}\n",
    "for char in s:\n",
    "    if char.isalpha():\n",
    "        counts[char] = counts.get(char, 0) + 1\n",
    "\n",
    "if any(count > 1 for count in counts.values()):\n",
    "    print(\"Yes\")\n",
    "else:\n",
    "    print(\"No\")\n"
   ]
  },
  {
   "cell_type": "code",
   "execution_count": 50,
   "id": "42f7281b-8f6c-45de-84c4-a9de5ab4e1a2",
   "metadata": {},
   "outputs": [
    {
     "name": "stdin",
     "output_type": "stream",
     "text": [
      "Enter a number:  6\n"
     ]
    },
    {
     "name": "stdout",
     "output_type": "stream",
     "text": [
      "6 is divisible by at least one number in the list.\n"
     ]
    }
   ],
   "source": [
    "# Exercise 48:\n",
    "#Write a Python function that checks if a number is prime by dividing it by numbers up to its square root.\n",
    "def divisible_by_any(n, divisors):\n",
    "    return any(n % d == 0 for d in divisors)\n",
    "number = int(input(\"Enter a number: \"))\n",
    "divisor_list = [2, 3, 5, 7]  # Example list\n",
    "if divisible_by_any(number, divisor_list):\n",
    "    print(f\"{number} is divisible by at least one number in the list.\")\n",
    "else:\n",
    "    print(f\"{number} is not divisible by any number in the list.\")"
   ]
  },
  {
   "cell_type": "code",
   "execution_count": null,
   "id": "78aa35c3-5502-4d25-ab70-8bcd3092f1ea",
   "metadata": {},
   "outputs": [],
   "source": [
    "### Exercise 49:\n",
    "#Write a Python program that checks if a number is within 1 of a multiple of 10.\n",
    "number = int(input(\"Enter a number: \"))\n",
    "if number % 10 == 1 or number % 10 == 9:\n",
    "    print(\"The number is within 1 of a multiple of 10.\")\n",
    "else:\n",
    "    print(\"The number is not within 1 of a multiple of 10.\")"
   ]
  },
  {
   "cell_type": "code",
   "execution_count": 48,
   "id": "d179f7ad-6497-465d-a1c0-830d9a37be38",
   "metadata": {},
   "outputs": [
    {
     "name": "stdin",
     "output_type": "stream",
     "text": [
      "Enter a number:  56\n"
     ]
    },
    {
     "name": "stdout",
     "output_type": "stream",
     "text": [
      "Out of range\n"
     ]
    }
   ],
   "source": [
    "# Exercise 50:\n",
    "#Write a Python program that prints \"In range\" if a number is between 10 and 20 (inclusive), otherwise it prints \"Out of range.\"\n",
    "number = float(input(\"Enter a number: \"))\n",
    "if 10 <= number <= 20:\n",
    "    print(\"In range\")\n",
    "else:\n",
    "    print(\"Out of range\")"
   ]
  }
 ],
 "metadata": {
  "colab": {
   "provenance": []
  },
  "kernelspec": {
   "display_name": "Python 3 (ipykernel)",
   "language": "python",
   "name": "python3"
  },
  "language_info": {
   "codemirror_mode": {
    "name": "ipython",
    "version": 3
   },
   "file_extension": ".py",
   "mimetype": "text/x-python",
   "name": "python",
   "nbconvert_exporter": "python",
   "pygments_lexer": "ipython3",
   "version": "3.13.5"
  }
 },
 "nbformat": 4,
 "nbformat_minor": 5
}
